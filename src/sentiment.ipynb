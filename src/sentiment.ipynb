{
 "cells": [
  {
   "cell_type": "code",
   "execution_count": null,
   "metadata": {},
   "outputs": [],
   "source": [
    "import pandas as pd"
   ]
  },
  {
   "cell_type": "code",
   "execution_count": null,
   "metadata": {},
   "outputs": [],
   "source": [
    "df_tweets = pd.read_csv('/Users/yassinkortam/Documents/GitHub/segmentation-pipeline/data/tweets/tokyo_2020_tweets.csv', low_memory=False).sample(n=10000, replace=False, random_state=42)\n",
    "df_athletes = pd.read_excel('/Users/yassinkortam/Documents/GitHub/segmentation-pipeline/data/olympics/Athletes.xlsx')\n",
    "df_medals = pd.read_excel('/Users/yassinkortam/Documents/GitHub/segmentation-pipeline/data/olympics/Medals.xlsx')"
   ]
  },
  {
   "cell_type": "code",
   "execution_count": null,
   "metadata": {},
   "outputs": [],
   "source": [
    "df_medals.sort_values(by='Rank', ascending=True)"
   ]
  },
  {
   "cell_type": "code",
   "execution_count": null,
   "metadata": {},
   "outputs": [],
   "source": [
    "df_athletes.head(3)"
   ]
  },
  {
   "cell_type": "code",
   "execution_count": null,
   "metadata": {},
   "outputs": [],
   "source": [
    "df_merged = df_medals.merge(df_athletes, left_on='Team/NOC', right_on='NOC').drop(columns=df_medals.columns)\n",
    "df_merged"
   ]
  },
  {
   "cell_type": "code",
   "execution_count": null,
   "metadata": {},
   "outputs": [],
   "source": [
    "df_tweets.head(3)"
   ]
  }
 ],
 "metadata": {
  "language_info": {
   "name": "python"
  },
  "orig_nbformat": 4
 },
 "nbformat": 4,
 "nbformat_minor": 2
}
