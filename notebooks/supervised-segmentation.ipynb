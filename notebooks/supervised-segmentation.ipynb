{
 "cells": [
  {
   "attachments": {},
   "cell_type": "markdown",
   "metadata": {},
   "source": [
    "# Machine Learning Model to Segment Customers and Predict Customer Outcomes.\n",
    "The goal of this model is to segment customers based on features that are most relevant to predicting customer outcomes, and then predicting these outcomes. The generated segments can then be used to re-partition the database (if necessary). Customer outcomes are the buying and selling of a product being marketed to them."
   ]
  },
  {
   "cell_type": "code",
   "execution_count": 107,
   "metadata": {},
   "outputs": [],
   "source": [
    "%matplotlib inline\n",
    "import matplotlib.pyplot as plt\n",
    "import pandas as pd\n",
    "import seaborn as sns\n",
    "\n",
    "from imblearn.over_sampling import RandomOverSampler\n",
    "from imblearn.pipeline import Pipeline\n",
    "\n",
    "from sklearn.compose import ColumnTransformer\n",
    "from sklearn.preprocessing import StandardScaler\n",
    "from sklearn.preprocessing import OrdinalEncoder\n",
    "from sklearn.model_selection import StratifiedKFold\n",
    "from sklearn.svm import SVC\n",
    "# from sklearn.pipeline import make_pipeline\n",
    "\n",
    "from sklearn.experimental import enable_halving_search_cv\n",
    "from sklearn.model_selection import HalvingGridSearchCV\n",
    "from sklearn.model_selection import train_test_split\n",
    "from sklearn.model_selection import cross_val_score\n",
    "from sklearn.metrics import confusion_matrix\n",
    "from sklearn.metrics import classification_report\n",
    "from sklearn.metrics import RocCurveDisplay\n",
    "\n",
    "from mlxtend.feature_selection import SequentialFeatureSelector as SFS\n",
    "from mlxtend.plotting import plot_sequential_feature_selection as plot_sfs\n",
    "\n",
    "from umap import UMAP"
   ]
  },
  {
   "attachments": {},
   "cell_type": "markdown",
   "metadata": {},
   "source": [
    "# Dataset Preprocessing\n"
   ]
  },
  {
   "attachments": {},
   "cell_type": "markdown",
   "metadata": {},
   "source": [
    "## Loading the dataset\n",
    "- Discrete and continuous (categorical and numerical) features are differentiated for convenience\n",
    "\n",
    "n="
   ]
  },
  {
   "cell_type": "code",
   "execution_count": 108,
   "metadata": {},
   "outputs": [
    {
     "name": "stdout",
     "output_type": "stream",
     "text": [
      "Dataset shape (136, 19)\n"
     ]
    }
   ],
   "source": [
    "discrete_features = []\n",
    "\n",
    "continuous_features = []\n",
    "\n",
    "features = discrete_features + continuous_features\n",
    "\n",
    "labels = []\n",
    "df = pd.read_excel('', usecols=features+labels)\n",
    "df = df.dropna()\n",
    "\n",
    "# Sanity check\n",
    "print('Dataset shape',df.shape)\n",
    "\n",
    "# #Find the columns with most null values\n",
    "# for column in df.columns:\n",
    "#     if df[column].isnull().sum() > 0:\n",
    "#         print(column, df[column].isnull().sum())"
   ]
  },
  {
   "attachments": {},
   "cell_type": "markdown",
   "metadata": {},
   "source": [
    "## Splitting the dataset\n",
    "\n",
    "Training dataset: n=\n",
    "Validation dataset: n="
   ]
  },
  {
   "cell_type": "code",
   "execution_count": 110,
   "metadata": {},
   "outputs": [
    {
     "name": "stdout",
     "output_type": "stream",
     "text": [
      "Training data shape (102, 18)\n",
      "Testing data shape (34, 18)\n"
     ]
    }
   ],
   "source": [
    "X_train, X_test, y_train, y_test = train_test_split(df[features], df[labels], test_size=0.25, random_state=42, stratify=df[labels])\n",
    "\n",
    "# Sanity check\n",
    "print('Training data shape',X_train.shape)\n",
    "print('Testing data shape',X_test.shape)"
   ]
  },
  {
   "attachments": {},
   "cell_type": "markdown",
   "metadata": {},
   "source": [
    "# Data Pipeline"
   ]
  },
  {
   "attachments": {},
   "cell_type": "markdown",
   "metadata": {},
   "source": [
    "# Preprocessing\n",
    "\n",
    "### Encoding"
   ]
  },
  {
   "cell_type": "code",
   "execution_count": null,
   "metadata": {},
   "outputs": [],
   "source": [
    "encoder = ColumnTransformer(transformers=[('encoder', OrdinalEncoder(), discrete_features)], remainder='passthrough')"
   ]
  },
  {
   "attachments": {},
   "cell_type": "markdown",
   "metadata": {},
   "source": [
    "### Scaling"
   ]
  },
  {
   "cell_type": "code",
   "execution_count": null,
   "metadata": {},
   "outputs": [],
   "source": [
    "scaler = ColumnTransformer(transformers=[('scaler', StandardScaler(), continuous_features)], remainder='passthrough')"
   ]
  },
  {
   "attachments": {},
   "cell_type": "markdown",
   "metadata": {},
   "source": [
    "### Oversampling"
   ]
  },
  {
   "cell_type": "code",
   "execution_count": 111,
   "metadata": {},
   "outputs": [],
   "source": [
    "ros = RandomOverSampler(random_state=42)"
   ]
  },
  {
   "attachments": {},
   "cell_type": "markdown",
   "metadata": {},
   "source": [
    "## Model Selection\n",
    "Since the data set is relatively small and sparse, an SVM would be an ideal model. Other models, including a neural network, were attempted unsuccessfully. A polynomial kernel was decided upon by trial and error, and 5 k-fold cross validation was done throughout the training process to mitigate over fitting.\n",
    "\n",
    "- https://www.baeldung.com/cs/svm-vs-neural-network"
   ]
  },
  {
   "cell_type": "code",
   "execution_count": 112,
   "metadata": {},
   "outputs": [
    {
     "name": "stdout",
     "output_type": "stream",
     "text": [
      "0.61 accuracy with a standard deviation of 0.05\n"
     ]
    }
   ],
   "source": [
    "stratified_kfold = StratifiedKFold(n_splits=5, shuffle=True, random_state=42)\n",
    "model = SVC(kernel='poly')\n",
    "\n",
    "# Sanity check: 5 fold cross validation of model on training data\n",
    "scores_training = cross_val_score(model, X_train, y_train.values.ravel(), cv=5)\n",
    "print(\"%0.2f accuracy with a standard deviation of %0.2f\" % (scores_training.mean(), scores_training.std()))"
   ]
  },
  {
   "attachments": {},
   "cell_type": "markdown",
   "metadata": {},
   "source": [
    "## Feature Engineering\n",
    "Feature engineering is done on the training dataset and validated using K-fold cross-validation to combat overfitting.\n",
    "\n",
    "The sequential feature selection algorithm is used in the forward direction in order to favor fewer features (to combat overfitting and simplify the model).\n",
    "\n",
    "- https://rasbt.github.io/mlxtend/user_guide/feature_selection/SequentialFeatureSelector/\n",
    "\n",
    "The UMAP algorithm is used for feature extraction. The UMAP parameters are tuned automatically.\n",
    "\n",
    "- https://umap-learn.readthedocs.io/en/latest/how_umap_works.html\n",
    "- https://arxiv.org/abs/1802.0342\n"
   ]
  },
  {
   "cell_type": "code",
   "execution_count": 113,
   "metadata": {},
   "outputs": [],
   "source": [
    "sfs = SFS(\n",
    "        estimator=model,\n",
    "        forward=True,\n",
    "        floating=True,\n",
    "        verbose=0,\n",
    "        scoring='accuracy',\n",
    "        cv=stratified_kfold)\n",
    "\n",
    "umap = UMAP(random_state=42)"
   ]
  },
  {
   "attachments": {},
   "cell_type": "markdown",
   "metadata": {},
   "source": [
    "## Hyperparameter Tuning\n",
    "\n",
    "All the data-sensitive preprocessing and feature engineering are encapsulated in a pipeline to simplify the enforcement of best practices and avoid data leakage. Hyperparameter tuning is done with the halving grid search algorithm, and the initial conditions for the parameter grid were determined by trial and error.\n",
    "\n",
    "- https://doi.org/10.3390/electronics10161973"
   ]
  },
  {
   "cell_type": "code",
   "execution_count": 114,
   "metadata": {},
   "outputs": [],
   "source": [
    "pipe = Pipeline(steps=[\n",
    "    ('encoder', encoder),\n",
    "    ('scaler', scaler),\n",
    "    ('ros', ros),\n",
    "    ('sfs', sfs),\n",
    "    ('umap', umap),\n",
    "    ('model', model)\n",
    "])\n",
    "\n",
    "param_grid = {\"umap__n_components\": [2, 3, 4],\n",
    "              \"umap__n_neighbors\": [7, 8, 9],}\n",
    "\n",
    "hgs = HalvingGridSearchCV(\n",
    "    estimator=pipe,\n",
    "    param_grid=param_grid, \n",
    "    cv=stratified_kfold, \n",
    "    scoring='accuracy',\n",
    "    verbose=1,\n",
    "    refit=True, \n",
    "    n_jobs=1)"
   ]
  },
  {
   "attachments": {},
   "cell_type": "markdown",
   "metadata": {},
   "source": [
    "## Training"
   ]
  },
  {
   "cell_type": "code",
   "execution_count": 115,
   "metadata": {},
   "outputs": [
    {
     "name": "stdout",
     "output_type": "stream",
     "text": [
      "n_iterations: 2\n",
      "n_required_iterations: 3\n",
      "n_possible_iterations: 2\n",
      "min_resources_: 20\n",
      "max_resources_: 102\n",
      "aggressive_elimination: False\n",
      "factor: 3\n",
      "----------\n",
      "iter: 0\n",
      "n_candidates: 9\n",
      "n_resources: 20\n",
      "Fitting 5 folds for each of 9 candidates, totalling 45 fits\n",
      "----------\n",
      "iter: 1\n",
      "n_candidates: 3\n",
      "n_resources: 60\n",
      "Fitting 5 folds for each of 3 candidates, totalling 15 fits\n"
     ]
    },
    {
     "data": {
      "text/html": [
       "<style>#sk-container-id-8 {color: black;background-color: white;}#sk-container-id-8 pre{padding: 0;}#sk-container-id-8 div.sk-toggleable {background-color: white;}#sk-container-id-8 label.sk-toggleable__label {cursor: pointer;display: block;width: 100%;margin-bottom: 0;padding: 0.3em;box-sizing: border-box;text-align: center;}#sk-container-id-8 label.sk-toggleable__label-arrow:before {content: \"▸\";float: left;margin-right: 0.25em;color: #696969;}#sk-container-id-8 label.sk-toggleable__label-arrow:hover:before {color: black;}#sk-container-id-8 div.sk-estimator:hover label.sk-toggleable__label-arrow:before {color: black;}#sk-container-id-8 div.sk-toggleable__content {max-height: 0;max-width: 0;overflow: hidden;text-align: left;background-color: #f0f8ff;}#sk-container-id-8 div.sk-toggleable__content pre {margin: 0.2em;color: black;border-radius: 0.25em;background-color: #f0f8ff;}#sk-container-id-8 input.sk-toggleable__control:checked~div.sk-toggleable__content {max-height: 200px;max-width: 100%;overflow: auto;}#sk-container-id-8 input.sk-toggleable__control:checked~label.sk-toggleable__label-arrow:before {content: \"▾\";}#sk-container-id-8 div.sk-estimator input.sk-toggleable__control:checked~label.sk-toggleable__label {background-color: #d4ebff;}#sk-container-id-8 div.sk-label input.sk-toggleable__control:checked~label.sk-toggleable__label {background-color: #d4ebff;}#sk-container-id-8 input.sk-hidden--visually {border: 0;clip: rect(1px 1px 1px 1px);clip: rect(1px, 1px, 1px, 1px);height: 1px;margin: -1px;overflow: hidden;padding: 0;position: absolute;width: 1px;}#sk-container-id-8 div.sk-estimator {font-family: monospace;background-color: #f0f8ff;border: 1px dotted black;border-radius: 0.25em;box-sizing: border-box;margin-bottom: 0.5em;}#sk-container-id-8 div.sk-estimator:hover {background-color: #d4ebff;}#sk-container-id-8 div.sk-parallel-item::after {content: \"\";width: 100%;border-bottom: 1px solid gray;flex-grow: 1;}#sk-container-id-8 div.sk-label:hover label.sk-toggleable__label {background-color: #d4ebff;}#sk-container-id-8 div.sk-serial::before {content: \"\";position: absolute;border-left: 1px solid gray;box-sizing: border-box;top: 0;bottom: 0;left: 50%;z-index: 0;}#sk-container-id-8 div.sk-serial {display: flex;flex-direction: column;align-items: center;background-color: white;padding-right: 0.2em;padding-left: 0.2em;position: relative;}#sk-container-id-8 div.sk-item {position: relative;z-index: 1;}#sk-container-id-8 div.sk-parallel {display: flex;align-items: stretch;justify-content: center;background-color: white;position: relative;}#sk-container-id-8 div.sk-item::before, #sk-container-id-8 div.sk-parallel-item::before {content: \"\";position: absolute;border-left: 1px solid gray;box-sizing: border-box;top: 0;bottom: 0;left: 50%;z-index: -1;}#sk-container-id-8 div.sk-parallel-item {display: flex;flex-direction: column;z-index: 1;position: relative;background-color: white;}#sk-container-id-8 div.sk-parallel-item:first-child::after {align-self: flex-end;width: 50%;}#sk-container-id-8 div.sk-parallel-item:last-child::after {align-self: flex-start;width: 50%;}#sk-container-id-8 div.sk-parallel-item:only-child::after {width: 0;}#sk-container-id-8 div.sk-dashed-wrapped {border: 1px dashed gray;margin: 0 0.4em 0.5em 0.4em;box-sizing: border-box;padding-bottom: 0.4em;background-color: white;}#sk-container-id-8 div.sk-label label {font-family: monospace;font-weight: bold;display: inline-block;line-height: 1.2em;}#sk-container-id-8 div.sk-label-container {text-align: center;}#sk-container-id-8 div.sk-container {/* jupyter's `normalize.less` sets `[hidden] { display: none; }` but bootstrap.min.css set `[hidden] { display: none !important; }` so we also need the `!important` here to be able to override the default hidden behavior on the sphinx rendered scikit-learn.org. See: https://github.com/scikit-learn/scikit-learn/issues/21755 */display: inline-block !important;position: relative;}#sk-container-id-8 div.sk-text-repr-fallback {display: none;}</style><div id=\"sk-container-id-8\" class=\"sk-top-container\"><div class=\"sk-text-repr-fallback\"><pre>HalvingGridSearchCV(cv=StratifiedKFold(n_splits=5, random_state=42, shuffle=True),\n",
       "                    estimator=Pipeline(steps=[(&#x27;scaler&#x27;,\n",
       "                                               ColumnTransformer(remainder=&#x27;passthrough&#x27;,\n",
       "                                                                 transformers=[(&#x27;scaler&#x27;,\n",
       "                                                                                StandardScaler(),\n",
       "                                                                                [&#x27;tumor_size_diameter&#x27;,\n",
       "                                                                                 &#x27;tumor_volume&#x27;])])),\n",
       "                                              (&#x27;ros&#x27;,\n",
       "                                               RandomOverSampler(random_state=42)),\n",
       "                                              (&#x27;umap&#x27;, UMAP(random_state=42)),\n",
       "                                              (&#x27;model&#x27;, SVC(kernel=&#x27;poly&#x27;))]),\n",
       "                    n_jobs=1,\n",
       "                    param_grid={&#x27;umap__n_components&#x27;: [2, 3, 4],\n",
       "                                &#x27;umap__n_neighbors&#x27;: [7, 8, 9]},\n",
       "                    scoring=&#x27;accuracy&#x27;, verbose=1)</pre><b>In a Jupyter environment, please rerun this cell to show the HTML representation or trust the notebook. <br />On GitHub, the HTML representation is unable to render, please try loading this page with nbviewer.org.</b></div><div class=\"sk-container\" hidden><div class=\"sk-item sk-dashed-wrapped\"><div class=\"sk-label-container\"><div class=\"sk-label sk-toggleable\"><input class=\"sk-toggleable__control sk-hidden--visually\" id=\"sk-estimator-id-92\" type=\"checkbox\" ><label for=\"sk-estimator-id-92\" class=\"sk-toggleable__label sk-toggleable__label-arrow\">HalvingGridSearchCV</label><div class=\"sk-toggleable__content\"><pre>HalvingGridSearchCV(cv=StratifiedKFold(n_splits=5, random_state=42, shuffle=True),\n",
       "                    estimator=Pipeline(steps=[(&#x27;scaler&#x27;,\n",
       "                                               ColumnTransformer(remainder=&#x27;passthrough&#x27;,\n",
       "                                                                 transformers=[(&#x27;scaler&#x27;,\n",
       "                                                                                StandardScaler(),\n",
       "                                                                                [&#x27;tumor_size_diameter&#x27;,\n",
       "                                                                                 &#x27;tumor_volume&#x27;])])),\n",
       "                                              (&#x27;ros&#x27;,\n",
       "                                               RandomOverSampler(random_state=42)),\n",
       "                                              (&#x27;umap&#x27;, UMAP(random_state=42)),\n",
       "                                              (&#x27;model&#x27;, SVC(kernel=&#x27;poly&#x27;))]),\n",
       "                    n_jobs=1,\n",
       "                    param_grid={&#x27;umap__n_components&#x27;: [2, 3, 4],\n",
       "                                &#x27;umap__n_neighbors&#x27;: [7, 8, 9]},\n",
       "                    scoring=&#x27;accuracy&#x27;, verbose=1)</pre></div></div></div><div class=\"sk-parallel\"><div class=\"sk-parallel-item\"><div class=\"sk-item\"><div class=\"sk-label-container\"><div class=\"sk-label sk-toggleable\"><input class=\"sk-toggleable__control sk-hidden--visually\" id=\"sk-estimator-id-93\" type=\"checkbox\" ><label for=\"sk-estimator-id-93\" class=\"sk-toggleable__label sk-toggleable__label-arrow\">estimator: Pipeline</label><div class=\"sk-toggleable__content\"><pre>Pipeline(steps=[(&#x27;scaler&#x27;,\n",
       "                 ColumnTransformer(remainder=&#x27;passthrough&#x27;,\n",
       "                                   transformers=[(&#x27;scaler&#x27;, StandardScaler(),\n",
       "                                                  [&#x27;tumor_size_diameter&#x27;,\n",
       "                                                   &#x27;tumor_volume&#x27;])])),\n",
       "                (&#x27;ros&#x27;, RandomOverSampler(random_state=42)),\n",
       "                (&#x27;umap&#x27;, UMAP(random_state=42)),\n",
       "                (&#x27;model&#x27;, SVC(kernel=&#x27;poly&#x27;))])</pre></div></div></div><div class=\"sk-serial\"><div class=\"sk-item\"><div class=\"sk-serial\"><div class=\"sk-item sk-dashed-wrapped\"><div class=\"sk-label-container\"><div class=\"sk-label sk-toggleable\"><input class=\"sk-toggleable__control sk-hidden--visually\" id=\"sk-estimator-id-94\" type=\"checkbox\" ><label for=\"sk-estimator-id-94\" class=\"sk-toggleable__label sk-toggleable__label-arrow\">scaler: ColumnTransformer</label><div class=\"sk-toggleable__content\"><pre>ColumnTransformer(remainder=&#x27;passthrough&#x27;,\n",
       "                  transformers=[(&#x27;scaler&#x27;, StandardScaler(),\n",
       "                                 [&#x27;tumor_size_diameter&#x27;, &#x27;tumor_volume&#x27;])])</pre></div></div></div><div class=\"sk-parallel\"><div class=\"sk-parallel-item\"><div class=\"sk-item\"><div class=\"sk-label-container\"><div class=\"sk-label sk-toggleable\"><input class=\"sk-toggleable__control sk-hidden--visually\" id=\"sk-estimator-id-95\" type=\"checkbox\" ><label for=\"sk-estimator-id-95\" class=\"sk-toggleable__label sk-toggleable__label-arrow\">scaler</label><div class=\"sk-toggleable__content\"><pre>[&#x27;tumor_size_diameter&#x27;, &#x27;tumor_volume&#x27;]</pre></div></div></div><div class=\"sk-serial\"><div class=\"sk-item\"><div class=\"sk-estimator sk-toggleable\"><input class=\"sk-toggleable__control sk-hidden--visually\" id=\"sk-estimator-id-96\" type=\"checkbox\" ><label for=\"sk-estimator-id-96\" class=\"sk-toggleable__label sk-toggleable__label-arrow\">StandardScaler</label><div class=\"sk-toggleable__content\"><pre>StandardScaler()</pre></div></div></div></div></div></div><div class=\"sk-parallel-item\"><div class=\"sk-item\"><div class=\"sk-label-container\"><div class=\"sk-label sk-toggleable\"><input class=\"sk-toggleable__control sk-hidden--visually\" id=\"sk-estimator-id-97\" type=\"checkbox\" ><label for=\"sk-estimator-id-97\" class=\"sk-toggleable__label sk-toggleable__label-arrow\">remainder</label><div class=\"sk-toggleable__content\"><pre></pre></div></div></div><div class=\"sk-serial\"><div class=\"sk-item\"><div class=\"sk-estimator sk-toggleable\"><input class=\"sk-toggleable__control sk-hidden--visually\" id=\"sk-estimator-id-98\" type=\"checkbox\" ><label for=\"sk-estimator-id-98\" class=\"sk-toggleable__label sk-toggleable__label-arrow\">passthrough</label><div class=\"sk-toggleable__content\"><pre>passthrough</pre></div></div></div></div></div></div></div></div><div class=\"sk-item\"><div class=\"sk-estimator sk-toggleable\"><input class=\"sk-toggleable__control sk-hidden--visually\" id=\"sk-estimator-id-99\" type=\"checkbox\" ><label for=\"sk-estimator-id-99\" class=\"sk-toggleable__label sk-toggleable__label-arrow\">RandomOverSampler</label><div class=\"sk-toggleable__content\"><pre>RandomOverSampler(random_state=42)</pre></div></div></div><div class=\"sk-item\"><div class=\"sk-estimator sk-toggleable\"><input class=\"sk-toggleable__control sk-hidden--visually\" id=\"sk-estimator-id-100\" type=\"checkbox\" ><label for=\"sk-estimator-id-100\" class=\"sk-toggleable__label sk-toggleable__label-arrow\">UMAP</label><div class=\"sk-toggleable__content\"><pre>UMAP(random_state=42)</pre></div></div></div><div class=\"sk-item\"><div class=\"sk-estimator sk-toggleable\"><input class=\"sk-toggleable__control sk-hidden--visually\" id=\"sk-estimator-id-101\" type=\"checkbox\" ><label for=\"sk-estimator-id-101\" class=\"sk-toggleable__label sk-toggleable__label-arrow\">SVC</label><div class=\"sk-toggleable__content\"><pre>SVC(kernel=&#x27;poly&#x27;)</pre></div></div></div></div></div></div></div></div></div></div></div></div>"
      ],
      "text/plain": [
       "HalvingGridSearchCV(cv=StratifiedKFold(n_splits=5, random_state=42, shuffle=True),\n",
       "                    estimator=Pipeline(steps=[('scaler',\n",
       "                                               ColumnTransformer(remainder='passthrough',\n",
       "                                                                 transformers=[('scaler',\n",
       "                                                                                StandardScaler(),\n",
       "                                                                                ['tumor_size_diameter',\n",
       "                                                                                 'tumor_volume'])])),\n",
       "                                              ('ros',\n",
       "                                               RandomOverSampler(random_state=42)),\n",
       "                                              ('umap', UMAP(random_state=42)),\n",
       "                                              ('model', SVC(kernel='poly'))]),\n",
       "                    n_jobs=1,\n",
       "                    param_grid={'umap__n_components': [2, 3, 4],\n",
       "                                'umap__n_neighbors': [7, 8, 9]},\n",
       "                    scoring='accuracy', verbose=1)"
      ]
     },
     "execution_count": 115,
     "metadata": {},
     "output_type": "execute_result"
    }
   ],
   "source": [
    "hgs.fit(X_train, y_train.values.ravel())"
   ]
  },
  {
   "cell_type": "code",
   "execution_count": 116,
   "metadata": {},
   "outputs": [
    {
     "name": "stdout",
     "output_type": "stream",
     "text": [
      "HGS params {'umap__n_components': 3, 'umap__n_neighbors': 8}\n",
      "HGS score 0.5621212121212121\n"
     ]
    }
   ],
   "source": [
    "# print the best features\n",
    "# print(hgs.best_estimator_.named_steps['sfs'].k_feature_idx_)\n",
    "# print the best parameters\n",
    "print(\"HGS params\", hgs.best_params_)\n",
    "\n",
    "# print the best score\n",
    "print(\"HGS score\", hgs.best_score_)"
   ]
  },
  {
   "cell_type": "code",
   "execution_count": 117,
   "metadata": {},
   "outputs": [],
   "source": [
    "# fs_metric_dict = hgs.best_estimator_.named_steps['sfs'].get_metric_dict(confidence_interval=0.95)\n",
    "# fig_fs_metric = plot_sfs(fs_metric_dict, kind='std_dev')\n",
    "# plt.grid()\n",
    "# plt.show()\n",
    "# df_fs_metric = pd.DataFrame.from_dict(fs_metric_dict).T\n",
    "# df_fs_metric"
   ]
  },
  {
   "attachments": {},
   "cell_type": "markdown",
   "metadata": {},
   "source": [
    "# Model evaluation"
   ]
  },
  {
   "cell_type": "code",
   "execution_count": 119,
   "metadata": {},
   "outputs": [],
   "source": [
    "y_pred = hgs.predict(X_test)"
   ]
  },
  {
   "attachments": {},
   "cell_type": "markdown",
   "metadata": {},
   "source": [
    "## ROC\n",
    "An ROC curve (receiver operating characteristic curve) is a graph showing the performance of a classification model at all classification thresholds.\n",
    "\n",
    "- https://developers.google.com/machine-learning/crash-course/classification/roc-and-auc"
   ]
  },
  {
   "cell_type": "code",
   "execution_count": 120,
   "metadata": {},
   "outputs": [
    {
     "data": {
      "image/png": "[encoded data removed]",
      "text/plain": [
       "<Figure size 640x480 with 1 Axes>"
      ]
     },
     "metadata": {},
     "output_type": "display_data"
    }
   ],
   "source": [
    "RocCurveDisplay.from_predictions(y_test, y_pred)\n",
    "plt.show()"
   ]
  },
  {
   "attachments": {},
   "cell_type": "markdown",
   "metadata": {},
   "source": [
    "## Confusion matrix and classification report\n",
    "\n",
    "- https://towardsdatascience.com/understanding-confusion-matrix-a9ad42dcfd62"
   ]
  },
  {
   "cell_type": "code",
   "execution_count": 121,
   "metadata": {},
   "outputs": [
    {
     "data": {
      "image/png": "[encoded data removed]",
      "text/plain": [
       "<Figure size 640x480 with 2 Axes>"
      ]
     },
     "metadata": {},
     "output_type": "display_data"
    },
    {
     "name": "stdout",
     "output_type": "stream",
     "text": [
      "              precision    recall  f1-score   support\n",
      "\n",
      "           0       0.78      0.70      0.74        20\n",
      "           1       0.62      0.71      0.67        14\n",
      "\n",
      "    accuracy                           0.71        34\n",
      "   macro avg       0.70      0.71      0.70        34\n",
      "weighted avg       0.71      0.71      0.71        34\n",
      "\n"
     ]
    }
   ],
   "source": [
    "cm = confusion_matrix(y_test, y_pred)\n",
    "\n",
    "cm_matrix = pd.DataFrame(data=cm)\n",
    "\n",
    "sns.heatmap(cm_matrix, annot=True, fmt='d', cmap='Blues').set(xlabel='Predicted Label', ylabel='True Label')\n",
    "\n",
    "plt.show()\n",
    "print(classification_report(y_test, y_pred, zero_division=0))"
   ]
  }
 ],
 "metadata": {
  "kernelspec": {
   "display_name": "tf",
   "language": "python",
   "name": "python3"
  },
  "language_info": {
   "codemirror_mode": {
    "name": "ipython",
    "version": 3
   },
   "file_extension": ".py",
   "mimetype": "text/x-python",
   "name": "python",
   "nbconvert_exporter": "python",
   "pygments_lexer": "ipython3",
   "version": "3.10.10"
  },
  "orig_nbformat": 4
 },
 "nbformat": 4,
 "nbformat_minor": 2
}
